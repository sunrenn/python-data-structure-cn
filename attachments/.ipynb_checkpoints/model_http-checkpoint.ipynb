{
 "cells": [
  {
   "cell_type": "code",
   "execution_count": null,
   "id": "c0233de3-8dd0-4cd0-9e69-8be0102073b9",
   "metadata": {},
   "outputs": [],
   "source": [
    "import http as hh\n",
    "\n",
    "print(dir(hh))\n"
   ]
  }
 ],
 "metadata": {
  "kernelspec": {
   "display_name": "Python 3 (ipykernel)",
   "language": "python",
   "name": "python3"
  },
  "language_info": {
   "codemirror_mode": {
    "name": "ipython",
    "version": 3
   },
   "file_extension": ".py",
   "mimetype": "text/x-python",
   "name": "python",
   "nbconvert_exporter": "python",
   "pygments_lexer": "ipython3",
   "version": "3.10.9"
  }
 },
 "nbformat": 4,
 "nbformat_minor": 5
}
